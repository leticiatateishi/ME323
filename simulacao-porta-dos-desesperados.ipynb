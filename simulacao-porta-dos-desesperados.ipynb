{
 "cells": [
  {
   "cell_type": "code",
   "execution_count": 5,
   "metadata": {},
   "outputs": [],
   "source": [
    "# Simulação de porta dos desesperados para ME323 na Unicamp\n",
    "#\n",
    "# Rafael Sartori M. Santos - 186154\n",
    "# Letícia M. Tateishi - 201454\n",
    "#\n",
    "# O chute da \"inteligência artificial\" é sempre na porta 1,\n",
    "# pois se o random de Python for aleatório, não importa\n",
    "# qual escolhemos para fazer isso.\n",
    "\n",
    "import random\n",
    "\n",
    "# Parâmetros para o programa\n",
    "MAX_ITERACOES = 10**8"
   ]
  },
  {
   "cell_type": "code",
   "execution_count": 6,
   "metadata": {},
   "outputs": [],
   "source": [
    "# Configuração de random\n",
    "random.seed()\n",
    "\n",
    "# Variáveis para confirmar se random é aleatório\n",
    "numeros_escolhidos = {\n",
    "    '1': 0,\n",
    "    '2': 0,\n",
    "    '3': 0\n",
    "}\n",
    "\n",
    "# Variáveis de simulação\n",
    "iteracoes = 0\n",
    "num_vitorias_mudar = 0\n",
    "num_vitorias_ficar = 0"
   ]
  },
  {
   "cell_type": "code",
   "execution_count": 7,
   "metadata": {},
   "outputs": [],
   "source": [
    "# Laço de simulação\n",
    "while iteracoes < MAX_ITERACOES:\n",
    "    # Chutamos uma porta para ser a premiada\n",
    "    porta_premiada = random.randint(1, 3)\n",
    "    \n",
    "    # Adicionamos a escolha à estatística\n",
    "    numeros_escolhidos[str(porta_premiada)] += 1\n",
    "    \n",
    "    # Verificamos se a porta premiada é a primeira\n",
    "    #\n",
    "    # Se for a primeira, significa que quem sempre\n",
    "    # fica ganha. Se não for a primeira, significa\n",
    "    # que das 2 portas livres, uma será mostrada e\n",
    "    # a outra possuirá o prêmio, ou seja, quem\n",
    "    # sempre muda irá ganhar.\n",
    "    #\n",
    "    # Já dá para notar que a chance de ganhar\n",
    "    # mudando de porta é 2/3, pois se cair na porta\n",
    "    # 2 ou 3, quem muda ganha.\n",
    "    if porta_premiada == 1:\n",
    "        num_vitorias_ficar += 1\n",
    "    else:\n",
    "        num_vitorias_mudar += 1\n",
    "    \n",
    "    # Vamos à próxima iteração\n",
    "    iteracoes += 1"
   ]
  },
  {
   "cell_type": "code",
   "execution_count": 8,
   "metadata": {},
   "outputs": [
    {
     "name": "stdout",
     "output_type": "stream",
     "text": [
      "Estatística de random\n",
      "\t1\t33327128\n",
      "\t2\t33337174\n",
      "\t3\t33335698\n",
      "\n",
      "Quem muda de porta ganha 66672872 vezes (66.672872%)\n",
      "Quem fica com a porta ganha 33327128 vezes (33.327128%)\n"
     ]
    }
   ],
   "source": [
    "# Imprimimos resultados\n",
    "\n",
    "# Estatísticas de quais portas foram sorteadas quantas vezes\n",
    "print('Estatística de random')\n",
    "for i in range(1, 4):\n",
    "    print('\\t{0}\\t{1}'.format(i, numeros_escolhidos[str(i)]))\n",
    "\n",
    "print()\n",
    "\n",
    "# Estatísticas de vitória\n",
    "print('Quem muda de porta ganha {0} vezes ({1}%)'.format(num_vitorias_mudar, num_vitorias_mudar * 100 / MAX_ITERACOES))\n",
    "print('Quem fica com a porta ganha {0} vezes ({1}%)'.format(num_vitorias_ficar, num_vitorias_ficar * 100 / MAX_ITERACOES))\n",
    "\n",
    "# Imprimir gráficos\n",
    "# TODO: imprimir gráficos"
   ]
  },
  {
   "cell_type": "code",
   "execution_count": null,
   "metadata": {},
   "outputs": [],
   "source": []
  }
 ],
 "metadata": {
  "kernelspec": {
   "display_name": "Python 3",
   "language": "python",
   "name": "python3"
  },
  "language_info": {
   "codemirror_mode": {
    "name": "ipython",
    "version": 3
   },
   "file_extension": ".py",
   "mimetype": "text/x-python",
   "name": "python",
   "nbconvert_exporter": "python",
   "pygments_lexer": "ipython3",
   "version": "3.6.7"
  }
 },
 "nbformat": 4,
 "nbformat_minor": 2
}
